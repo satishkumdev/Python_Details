{
 "cells": [
  {
   "cell_type": "code",
   "execution_count": 1,
   "metadata": {},
   "outputs": [
    {
     "name": "stdout",
     "output_type": "stream",
     "text": [
      "Below set of example use for function\n"
     ]
    }
   ],
   "source": [
    "print(\"Below set of example use for function\")"
   ]
  },
  {
   "cell_type": "code",
   "execution_count": 3,
   "metadata": {},
   "outputs": [
    {
     "name": "stdout",
     "output_type": "stream",
     "text": [
      "Inside function\n",
      "########################################\n"
     ]
    }
   ],
   "source": [
    "def Hello():\n",
    "    print(\"Inside function\")\n",
    "    print('#'*40)\n",
    "    \n",
    "Hello()"
   ]
  },
  {
   "cell_type": "code",
   "execution_count": 4,
   "metadata": {},
   "outputs": [
    {
     "name": "stdout",
     "output_type": "stream",
     "text": [
      "Value  of Sum6 , a value  is 2\n"
     ]
    }
   ],
   "source": [
    "#Required Arguments\n",
    "def plus(a,b):\n",
    "    sum=a+b\n",
    "    return (sum,a)\n",
    "\n",
    "sum , a = plus(2,4)\n",
    "\n",
    "print (\"Value  of Sum{} , a value  is {}\".format(sum,a))\n",
    "    \n"
   ]
  },
  {
   "cell_type": "code",
   "execution_count": 8,
   "metadata": {},
   "outputs": [
    {
     "name": "stdout",
     "output_type": "stream",
     "text": [
      "Value  of Sum6 , a value  is 2\n"
     ]
    }
   ],
   "source": [
    "#Default Arguments\n",
    "def plus(a,b=4):\n",
    "    sum=a+b\n",
    "    return (sum,a)\n",
    "\n",
    "sum , a = plus(2)\n",
    "\n",
    "print (\"Value  of Sum{} , a value  is {}\".format(sum,a))\n"
   ]
  },
  {
   "cell_type": "code",
   "execution_count": 10,
   "metadata": {},
   "outputs": [
    {
     "name": "stdout",
     "output_type": "stream",
     "text": [
      "Value  of Sum6 , a value  is= 4\n"
     ]
    }
   ],
   "source": [
    "#Keyword Argumetns ie based on key word passing the arguments\n",
    "\n",
    "\n",
    "def plus(a,b):\n",
    "    sum=a+b\n",
    "    return (sum,a)\n",
    "\n",
    "sum , a = plus(b=2,a=4)\n",
    "\n",
    "print (\"Value  of Sum{} , a value  is= {}\".format(sum,a))"
   ]
  },
  {
   "cell_type": "code",
   "execution_count": 18,
   "metadata": {},
   "outputs": [
    {
     "name": "stdout",
     "output_type": "stream",
     "text": [
      "1\n",
      "3\n",
      "8\n",
      "12\n"
     ]
    },
    {
     "data": {
      "text/plain": [
       "12"
      ]
     },
     "execution_count": 18,
     "metadata": {},
     "output_type": "execute_result"
    }
   ],
   "source": [
    "#for multiple arguments,we use args : here internally using tuples\n",
    "def total (*args):\n",
    "    t=0;\n",
    "    for i in args:\n",
    "        t +=i\n",
    "        print(t)\n",
    "    return t\n",
    "    \n",
    "total(1,2,5,4)    \n"
   ]
  },
  {
   "cell_type": "code",
   "execution_count": 19,
   "metadata": {},
   "outputs": [
    {
     "name": "stdout",
     "output_type": "stream",
     "text": [
      "1\n",
      "3\n",
      "8\n",
      "12\n"
     ]
    },
    {
     "data": {
      "text/plain": [
       "12"
      ]
     },
     "execution_count": 19,
     "metadata": {},
     "output_type": "execute_result"
    }
   ],
   "source": [
    "#using global variable\n",
    "t=2\n",
    "def total (*args):\n",
    "    t=0;\n",
    "    for i in args:\n",
    "        t +=i\n",
    "        print(t)\n",
    "    return t\n",
    "    \n",
    "total(1,2,5,4)    \n",
    "#Note : internally inside function local variable called not the global variable"
   ]
  },
  {
   "cell_type": "code",
   "execution_count": 21,
   "metadata": {},
   "outputs": [
    {
     "name": "stdout",
     "output_type": "stream",
     "text": [
      "7\n"
     ]
    }
   ],
   "source": [
    "#using lambda\n",
    "\n",
    "sum=lambda x,y:x+y\n",
    "\n",
    "#sum(3,4)\n",
    "print(sum(3,4))\n",
    "\n",
    "\n",
    "\n",
    "\n",
    "\n",
    "\n"
   ]
  },
  {
   "cell_type": "code",
   "execution_count": 2,
   "metadata": {},
   "outputs": [
    {
     "data": {
      "text/plain": [
       "<function len(obj, /)>"
      ]
     },
     "execution_count": 2,
     "metadata": {},
     "output_type": "execute_result"
    }
   ],
   "source": [
    "len"
   ]
  },
  {
   "cell_type": "code",
   "execution_count": 3,
   "metadata": {},
   "outputs": [
    {
     "data": {
      "text/plain": [
       "builtin_function_or_method"
      ]
     },
     "execution_count": 3,
     "metadata": {},
     "output_type": "execute_result"
    }
   ],
   "source": [
    "type(len)"
   ]
  },
  {
   "cell_type": "code",
   "execution_count": 5,
   "metadata": {},
   "outputs": [
    {
     "name": "stdout",
     "output_type": "stream",
     "text": [
      "4\n"
     ]
    }
   ],
   "source": [
    "num_letter=len(\"four\")\n",
    "print(num_letter)"
   ]
  },
  {
   "cell_type": "code",
   "execution_count": 9,
   "metadata": {},
   "outputs": [
    {
     "name": "stdout",
     "output_type": "stream",
     "text": [
      "6\n",
      "[3, 4, 5]\n"
     ]
    }
   ],
   "source": [
    "#use  of pop function, \n",
    "#Remove Last element for the function\n",
    "l=[3,4,5,6]\n",
    "x=l.pop()\n",
    "print(x)\n",
    "print(l)"
   ]
  },
  {
   "cell_type": "code",
   "execution_count": 18,
   "metadata": {},
   "outputs": [
    {
     "name": "stdout",
     "output_type": "stream",
     "text": [
      "I am Learning adf\n"
     ]
    }
   ],
   "source": [
    "def printsubject(name):\n",
    "    print(\"I am Learning \"+ name)\n",
    "\n",
    "    \n",
    "#printsubject(name)    \n"
   ]
  },
  {
   "cell_type": "code",
   "execution_count": 21,
   "metadata": {},
   "outputs": [
    {
     "name": "stdout",
     "output_type": "stream",
     "text": [
      "Enter Subject NameMachine Learning\n",
      "I am Learning Machine Learning\n"
     ]
    }
   ],
   "source": [
    "x=input(str(\"Enter Subject Name\"))\n",
    "printsubject(x)"
   ]
  },
  {
   "cell_type": "code",
   "execution_count": 3,
   "metadata": {},
   "outputs": [],
   "source": [
    "#Write a function to reveres the String\n",
    "def reverseStringFunction(string):\n",
    "    print(string[::-1])\n",
    "    \n",
    "    "
   ]
  },
  {
   "cell_type": "code",
   "execution_count": 4,
   "metadata": {},
   "outputs": [
    {
     "name": "stdout",
     "output_type": "stream",
     "text": [
      "Please Enter String  for reverse the stringMachine Learning\n",
      "You have Enter the string as  Machine Learning\n",
      "gninraeL enihcaM\n"
     ]
    }
   ],
   "source": [
    "nm=input(\"Please Enter String  for reverse the string\")\n",
    "print(\"You have Enter the string as \",nm)\n",
    "reverseStringFunction(nm)"
   ]
  },
  {
   "cell_type": "code",
   "execution_count": 22,
   "metadata": {},
   "outputs": [],
   "source": [
    "#WAP to increase the salary by 10%\n",
    "def increaseSalary(name,salary):\n",
    "    newsalary=salary*1.10\n",
    "    print(\"{} Now, New Salary is{}\".format(name,newsalary))\n",
    "    print(\"**\"*50)\n",
    "    print(\"\\t\\tThanks\")\n"
   ]
  },
  {
   "cell_type": "code",
   "execution_count": 23,
   "metadata": {},
   "outputs": [
    {
     "name": "stdout",
     "output_type": "stream",
     "text": [
      "Enter Your Name=rw\n",
      "Name type is <class 'str'>\n",
      "Now Enter Salary=34\n",
      "<class 'int'>\n",
      "rw Your Current Salary is:34\n",
      "rw Now, New Salary is37.400000000000006\n",
      "****************************************************************************************************\n",
      "\t\tThanks\n"
     ]
    }
   ],
   "source": [
    "name=str(input(\"Enter Your Name=\"))\n",
    "print(\"Name type is\",type(name))\n",
    "sal=int(input(\"Now Enter Salary=\"))\n",
    "print(type(sal))\n",
    "print(\"{} Your Current Salary is:{}\".format(name,sal))\n",
    "\n",
    "increaseSalary(name,sal)\n"
   ]
  },
  {
   "cell_type": "code",
   "execution_count": 24,
   "metadata": {},
   "outputs": [
    {
     "name": "stdout",
     "output_type": "stream",
     "text": [
      "Help on function increaseSalary in module __main__:\n",
      "\n",
      "increaseSalary(name, salary)\n",
      "    #WAP to increase the salary by 10%\n",
      "\n"
     ]
    }
   ],
   "source": [
    "help(increaseSalary)"
   ]
  },
  {
   "cell_type": "code",
   "execution_count": null,
   "metadata": {},
   "outputs": [],
   "source": []
  }
 ],
 "metadata": {
  "kernelspec": {
   "display_name": "Python 3",
   "language": "python",
   "name": "python3"
  },
  "language_info": {
   "codemirror_mode": {
    "name": "ipython",
    "version": 3
   },
   "file_extension": ".py",
   "mimetype": "text/x-python",
   "name": "python",
   "nbconvert_exporter": "python",
   "pygments_lexer": "ipython3",
   "version": "3.7.4"
  }
 },
 "nbformat": 4,
 "nbformat_minor": 4
}
